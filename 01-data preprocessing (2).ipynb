{
 "cells": [
  {
   "cell_type": "code",
   "execution_count": 7,
   "id": "bcb19a85-45c7-47bc-ae0c-27c39d0baee6",
   "metadata": {},
   "outputs": [],
   "source": [
    "import numpy as np\n",
    "import pandas as pd\n",
    "import matplotlib.pyplot as plt\n",
    "import seaborn as sns"
   ]
  },
  {
   "cell_type": "code",
   "execution_count": 8,
   "id": "a946b98c-0cb1-43a7-8bc5-e4d2834a019a",
   "metadata": {},
   "outputs": [],
   "source": [
    "ds=pd.read_csv(\"data.csv\")"
   ]
  },
  {
   "cell_type": "code",
   "execution_count": 9,
   "id": "4fcd11b2-ed40-4cc3-aadf-1060aa921e1e",
   "metadata": {},
   "outputs": [
    {
     "name": "stdout",
     "output_type": "stream",
     "text": [
      "<class 'pandas.core.frame.DataFrame'>\n",
      "RangeIndex: 29451 entries, 0 to 29450\n",
      "Data columns (total 12 columns):\n",
      " #   Column                 Non-Null Count  Dtype  \n",
      "---  ------                 --------------  -----  \n",
      " 0   POSTED_BY              29451 non-null  object \n",
      " 1   UNDER_CONSTRUCTION     29451 non-null  int64  \n",
      " 2   RERA                   29451 non-null  int64  \n",
      " 3   BHK_NO.                29451 non-null  int64  \n",
      " 4   BHK_OR_RK              29451 non-null  object \n",
      " 5   SQUARE_FT              29451 non-null  float64\n",
      " 6   READY_TO_MOVE          29451 non-null  int64  \n",
      " 7   RESALE                 29451 non-null  int64  \n",
      " 8   ADDRESS                29451 non-null  object \n",
      " 9   LONGITUDE              29451 non-null  float64\n",
      " 10  LATITUDE               29451 non-null  float64\n",
      " 11  TARGET(PRICE_IN_LACS)  29451 non-null  float64\n",
      "dtypes: float64(4), int64(5), object(3)\n",
      "memory usage: 2.7+ MB\n"
     ]
    }
   ],
   "source": [
    "ds.info()"
   ]
  },
  {
   "cell_type": "code",
   "execution_count": 10,
   "id": "7216e018-55c7-442b-8867-e0c49cb5ccc9",
   "metadata": {},
   "outputs": [],
   "source": [
    "#we found problem in our opinion\n",
    "# square_ft renge select 300 sq.-3000 sq.\n",
    "#address split, city\n",
    "#longitude ,lattitude\n"
   ]
  },
  {
   "cell_type": "code",
   "execution_count": 11,
   "id": "a13af80b-f97b-4e00-8c0b-23701b031c72",
   "metadata": {},
   "outputs": [],
   "source": [
    "#remove columns\n",
    "ds=ds.drop(columns=[\"LONGITUDE\",\"LATITUDE\"])"
   ]
  },
  {
   "cell_type": "code",
   "execution_count": 12,
   "id": "fe5a44f0-057f-4c7e-a734-66f2a79e6e92",
   "metadata": {},
   "outputs": [],
   "source": [
    "#outliers remove based on square_ft\n",
    "for i in ds.index:\n",
    "    if ds.loc[i,\"SQUARE_FT\"]>3000 or ds.loc[i,\"SQUARE_FT\"]<300:\n",
    "        ds.drop(i,inplace=True)\n",
    "     "
   ]
  },
  {
   "cell_type": "code",
   "execution_count": 13,
   "id": "fbde7303-ca13-428c-b4f8-bc67201c9bab",
   "metadata": {},
   "outputs": [],
   "source": [
    "#Outliers remove based on TARGET(PRICE_IN_LACS)\n",
    "for i in ds.index:\n",
    "    if ds.loc[i,\"TARGET(PRICE_IN_LACS)\"]>120 or ds.loc[i,\"TARGET(PRICE_IN_LACS)\"]<3:\n",
    "        ds.drop(i,inplace=True)"
   ]
  },
  {
   "cell_type": "code",
   "execution_count": 38,
   "id": "3603c508-e62d-4881-b5df-d7afc7c712ef",
   "metadata": {},
   "outputs": [],
   "source": [
    "for i in ds.index:\n",
    "    ds.loc[i, \"SQUARE_FT\"] = round(ds.loc[i, \"SQUARE_FT\"], 2)"
   ]
  },
  {
   "cell_type": "code",
   "execution_count": 40,
   "id": "cc06309b-a17a-451d-bc42-7e84ec29f83b",
   "metadata": {},
   "outputs": [],
   "source": [
    "ds['CITY'] = ds['ADDRESS'].str.split(\",\").str.get(-1).str.strip()"
   ]
  },
  {
   "cell_type": "code",
   "execution_count": 44,
   "id": "d5364b0d-58e7-4a28-a291-cba1caccff44",
   "metadata": {},
   "outputs": [],
   "source": [
    "for i in ds.index:\n",
    "    address = ds.loc[i, \"ADDRESS\"]\n",
    "    city = ds.loc[i, \"CITY\"]\n",
    "    address = address.replace(\",\" + city, \"\")\n",
    "    ds.loc[i, \"ADDRESS\"] = address"
   ]
  },
  {
   "cell_type": "code",
   "execution_count": 46,
   "id": "b0aa471c-6488-4cd2-b5e6-4be9a8e2d1c8",
   "metadata": {},
   "outputs": [],
   "source": [
    "ds.to_csv(\"cleaned_data.csv\")"
   ]
  },
  {
   "cell_type": "code",
   "execution_count": null,
   "id": "8937f32b-41e5-4702-90b1-80fe10766927",
   "metadata": {},
   "outputs": [],
   "source": []
  }
 ],
 "metadata": {
  "kernelspec": {
   "display_name": "Python 3 (ipykernel)",
   "language": "python",
   "name": "python3"
  },
  "language_info": {
   "codemirror_mode": {
    "name": "ipython",
    "version": 3
   },
   "file_extension": ".py",
   "mimetype": "text/x-python",
   "name": "python",
   "nbconvert_exporter": "python",
   "pygments_lexer": "ipython3",
   "version": "3.12.7"
  }
 },
 "nbformat": 4,
 "nbformat_minor": 5
}
